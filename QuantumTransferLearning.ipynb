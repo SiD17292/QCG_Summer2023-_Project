{
 "cells": [
  {
   "cell_type": "code",
   "execution_count": 1,
   "id": "44717067-287c-47f0-ae01-f36278c38cd8",
   "metadata": {},
   "outputs": [
    {
     "data": {
      "text/plain": [
       "'0.36.0'"
      ]
     },
     "execution_count": 1,
     "metadata": {},
     "output_type": "execute_result"
    }
   ],
   "source": [
    "import torch\n",
    "from torch import nn\n",
    "from torch.utils.data import DataLoader\n",
    "\n",
    "import torchvision\n",
    "from torchvision import transforms\n",
    "from torchvision import datasets\n",
    "\n",
    "import matplotlib.pyplot as plt\n",
    "import numpy as np\n",
    "import pennylane as qml\n",
    "\n",
    "import torchinfo\n",
    "from torchinfo import summary\n",
    "\n",
    "qml.__version__"
   ]
  },
  {
   "cell_type": "markdown",
   "id": "d88b2359-bd06-49fd-8c16-324c6fe5c046",
   "metadata": {},
   "source": [
    "# Setting up a quantum device and hyperparameters:"
   ]
  },
  {
   "cell_type": "code",
   "execution_count": 2,
   "id": "6c6242fc-3dd2-44be-a21b-ac1323ee3f46",
   "metadata": {},
   "outputs": [],
   "source": [
    "n_qubits = 4\n",
    "q_depth = 6\n",
    "q_delta = 0.005\n",
    "BATCH_SIZE = 64\n",
    "epochs = 3\n",
    "lr_step = 0.0004\n",
    "dev = qml.device(\"lightning.gpu\", wires = n_qubits)"
   ]
  },
  {
   "cell_type": "code",
   "execution_count": 3,
   "id": "82b8ee60-0029-4148-89de-95e61c61a67d",
   "metadata": {},
   "outputs": [
    {
     "data": {
      "text/plain": [
       "'cuda'"
      ]
     },
     "execution_count": 3,
     "metadata": {},
     "output_type": "execute_result"
    }
   ],
   "source": [
    "device = \"cuda\" if torch.cuda.is_available() else \"cpu\" \n",
    "device"
   ]
  },
  {
   "cell_type": "code",
   "execution_count": 4,
   "id": "6cd52425-28e6-4c44-a35c-b6ec7bbe1729",
   "metadata": {},
   "outputs": [],
   "source": [
    "def H_layer(nqubits):\n",
    "    \"\"\"\n",
    "    For assigning hadamard gate on all incoming qubits\n",
    "    \"\"\"\n",
    "    for i in range(nqubits):\n",
    "        qml.Hadamard(wires = [i])\n",
    "\n",
    "def RY_layer(phi_elements):\n",
    "    \"\"\"\n",
    "    For assigning RY gate to all incoming qubits, depending on the input phi values, given as an array\n",
    "    \"\"\"\n",
    "    for i, phi in enumerate(phi_elements):\n",
    "        qml.RY(phi,wires = [i])\n",
    "\n",
    "def entangling_layer(nqubits):\n",
    "    \"\"\"\n",
    "    It's layers of alternate CNOT's so as to entangle the state of incoming qubits\n",
    "    \"\"\"\n",
    "    for i in range(0,nqubits-1,2):\n",
    "        qml.CNOT(wires=[i,i+1])\n",
    "        \n",
    "    for j in range(1,nqubits-1,2):\n",
    "        qml.CNOT(wires = [j,j+1])"
   ]
  },
  {
   "cell_type": "code",
   "execution_count": 5,
   "id": "2006d26d-6d08-4925-92c2-0d938a7dde57",
   "metadata": {},
   "outputs": [],
   "source": [
    "#Making the quantum net, which will process the qubits to give an output:\n",
    "@qml.qnode(dev)\n",
    "\n",
    "def quantum_net(q_input, q_params):\n",
    "\n",
    "    #Adding the hadamard layer:\n",
    "    H_layer(n_qubits)\n",
    "\n",
    "    #Adding the RY layer, according to the input 4 features from the ResNet18 output:\n",
    "    RY_layer(q_input)\n",
    "\n",
    "    #Entangling the qubits as well passing them through layers of quantum entanglement and processing:\n",
    "    for i in range(q_depth):\n",
    "        entangling_layer(n_qubits)\n",
    "        RY_layer(q_params[i])\n",
    "\n",
    "    #Next we will find the expectation value of the qubits in the Z basis by applying a Pauli-Z, so that we can return them as the output:\n",
    "\n",
    "    val = [qml.expval(qml.Z(wires = [i])) for i in range(n_qubits)]\n",
    "    return tuple(val)"
   ]
  },
  {
   "cell_type": "code",
   "execution_count": 6,
   "id": "1325edb5-8563-4707-bfc5-fb8596619394",
   "metadata": {},
   "outputs": [
    {
     "data": {
      "text/plain": [
       "(tensor(-0.0375, dtype=torch.float64),\n",
       " tensor(-0.3476, dtype=torch.float64),\n",
       " tensor(0.0277, dtype=torch.float64),\n",
       " tensor(-0.4408, dtype=torch.float64))"
      ]
     },
     "execution_count": 6,
     "metadata": {},
     "output_type": "execute_result"
    }
   ],
   "source": [
    "inp = torch.rand(4)\n",
    "param = torch.rand(6,4)\n",
    "quantum_net(inp, param)"
   ]
  },
  {
   "cell_type": "code",
   "execution_count": 7,
   "id": "a972a927-89da-4f74-97d5-3b383c1137fd",
   "metadata": {},
   "outputs": [],
   "source": [
    "#Making the actual quantum block, to process it all:\n",
    "\n",
    "class Quantum_block(nn.Module):\n",
    "    def __init__(self):\n",
    "        super().__init__()\n",
    "\n",
    "        self.pre_layer = nn.Linear(512,n_qubits)\n",
    "        self.q_params = nn.Parameter(q_delta * torch.randn(q_depth, n_qubits))\n",
    "        self.post_layer = nn.Linear(n_qubits,2)\n",
    "\n",
    "    def forward(self, x):\n",
    "        x = self.pre_layer(x)\n",
    "        #print(x.shape)\n",
    "        q_in = x.tanh() * (np.pi/2)\n",
    "        #print(f\"q_in is : {q_in}\")\n",
    "        q_out = torch.tensor([],dtype=torch.float).to(device)\n",
    "        #print(f\"q_out before is: {q_out}\")\n",
    "        \n",
    "        #going through q_in, passing it through quantum_net, getting the results:\n",
    "        for element in q_in:\n",
    "            #print(f\"element is {element}\")\n",
    "            #print(f\"params : {self.q_params}\")\n",
    "            q_out_elem = torch.tensor(quantum_net(element, self.q_params)).unsqueeze(0).type(torch.float).to(device)\n",
    "            q_out = torch.cat((q_out,q_out_elem)).type(torch.float).to(device)\n",
    "            #print(f\"q_out is {q_out}\")\n",
    "\n",
    "        #print(f\"q_out final is :{q_out}\")\n",
    "        return self.post_layer(q_out)"
   ]
  },
  {
   "cell_type": "code",
   "execution_count": 8,
   "id": "26efec63-653a-4bd6-bcaa-726ef1e1c66f",
   "metadata": {},
   "outputs": [
    {
     "data": {
      "text/plain": [
       "tensor([[-0.7282,  0.3589],\n",
       "        [-0.6125,  0.2736],\n",
       "        [-0.6310,  0.2507],\n",
       "        [-0.2875,  0.2490],\n",
       "        [-0.3782, -0.0876],\n",
       "        [-0.4695,  0.3235],\n",
       "        [-0.7610,  0.5653],\n",
       "        [-0.4616,  0.8040]], device='cuda:0', grad_fn=<AddmmBackward0>)"
      ]
     },
     "execution_count": 8,
     "metadata": {},
     "output_type": "execute_result"
    }
   ],
   "source": [
    "a=torch.randn(8,512).to(device)\n",
    "b=Quantum_block().to(device)\n",
    "b(a)"
   ]
  },
  {
   "cell_type": "code",
   "execution_count": 9,
   "id": "4be2b016-d47b-4150-9a9d-1600b62b4e26",
   "metadata": {},
   "outputs": [],
   "source": [
    "class Residual_Block(nn.Module):\n",
    "    def __init__(self, \n",
    "                 input_channels:int,\n",
    "                 output_channels:int,\n",
    "                 stride:int):\n",
    "        \n",
    "        super().__init__()\n",
    "\n",
    "        self.legit = nn.Sequential(\n",
    "            nn.Conv2d(input_channels, output_channels, kernel_size = 3, stride = stride, padding = 1),\n",
    "            nn.BatchNorm2d(output_channels),\n",
    "            nn.ReLU(inplace=True),\n",
    "\n",
    "            nn.Conv2d(output_channels, output_channels, kernel_size = 3, stride = 1, padding = 1),\n",
    "            nn.BatchNorm2d(output_channels),\n",
    "        )\n",
    "\n",
    "        self.shortcut = nn.Sequential()\n",
    "        if stride != 1 or input_channels!=output_channels:\n",
    "            self.shortcut = nn.Sequential(\n",
    "                nn.Conv2d(input_channels, output_channels, kernel_size = 1, stride = stride, bias = False),\n",
    "                nn.BatchNorm2d(output_channels),\n",
    "            )\n",
    "\n",
    "    def forward(self, x):\n",
    "        return (self.legit(x) + self.shortcut(x))\n",
    "\n",
    "\n",
    "class ResNet(nn.Module):\n",
    "    def __init__(self, Res_Block:nn.Module):\n",
    "        super().__init__()\n",
    "\n",
    "        self.in_channels = 64\n",
    "\n",
    "        self.pre = nn.Sequential(\n",
    "            nn.Conv2d(3,self.in_channels, kernel_size = 3, stride = 1, padding = 1, bias = False),\n",
    "            nn.BatchNorm2d(self.in_channels),\n",
    "            nn.ReLU(inplace = True)\n",
    "        )\n",
    "        \n",
    "        self.block_1 = self.make_layer(Res_Block, 64, 2, 1)\n",
    "        self.block_2 = self.make_layer(Res_Block, 128, 2, 2)\n",
    "        self.block_3 = self.make_layer(Res_Block, 256, 2, 2)\n",
    "        self.block_4 = self.make_layer(Res_Block, 512, 2, 2)\n",
    "        \n",
    "        self.post = nn.Sequential(\n",
    "            nn.AvgPool2d(kernel_size=4),\n",
    "            nn.Flatten(),\n",
    "        )\n",
    "        self.final = nn.Linear(512,2)\n",
    "        \n",
    "\n",
    "    def make_layer(self, Resblock, channels, num_blocks, stride):\n",
    "        layers = []\n",
    "        strides = [stride] + [1]*(num_blocks-1)\n",
    "        for stride in strides:\n",
    "            layer = Resblock(self.in_channels, channels, stride)\n",
    "            self.in_channels = channels\n",
    "            layers.append(layer)\n",
    "            \n",
    "        return nn.Sequential(*layers)\n",
    "\n",
    "    def forward(self, x):\n",
    "        return self.final(self.post(self.block_4(self.block_3(self.block_2(self.block_1(self.pre(x)))))))"
   ]
  },
  {
   "cell_type": "code",
   "execution_count": 10,
   "id": "1bd67602-47d0-4ac0-84dc-14e9566426af",
   "metadata": {},
   "outputs": [
    {
     "name": "stdout",
     "output_type": "stream",
     "text": [
      "==========================================================================================\n",
      "Layer (type:depth-idx)                   Output Shape              Param #\n",
      "==========================================================================================\n",
      "ResNet                                   [2, 2]                    --\n",
      "├─Sequential: 1-1                        [2, 64, 32, 32]           --\n",
      "│    └─Conv2d: 2-1                       [2, 64, 32, 32]           1,728\n",
      "│    └─BatchNorm2d: 2-2                  [2, 64, 32, 32]           128\n",
      "│    └─ReLU: 2-3                         [2, 64, 32, 32]           --\n",
      "├─Sequential: 1-2                        [2, 64, 32, 32]           --\n",
      "│    └─Residual_Block: 2-4               [2, 64, 32, 32]           --\n",
      "│    │    └─Sequential: 3-1              [2, 64, 32, 32]           74,112\n",
      "│    │    └─Sequential: 3-2              [2, 64, 32, 32]           --\n",
      "│    └─Residual_Block: 2-5               [2, 64, 32, 32]           --\n",
      "│    │    └─Sequential: 3-3              [2, 64, 32, 32]           74,112\n",
      "│    │    └─Sequential: 3-4              [2, 64, 32, 32]           --\n",
      "├─Sequential: 1-3                        [2, 128, 16, 16]          --\n",
      "│    └─Residual_Block: 2-6               [2, 128, 16, 16]          --\n",
      "│    │    └─Sequential: 3-5              [2, 128, 16, 16]          221,952\n",
      "│    │    └─Sequential: 3-6              [2, 128, 16, 16]          8,448\n",
      "│    └─Residual_Block: 2-7               [2, 128, 16, 16]          --\n",
      "│    │    └─Sequential: 3-7              [2, 128, 16, 16]          295,680\n",
      "│    │    └─Sequential: 3-8              [2, 128, 16, 16]          --\n",
      "├─Sequential: 1-4                        [2, 256, 8, 8]            --\n",
      "│    └─Residual_Block: 2-8               [2, 256, 8, 8]            --\n",
      "│    │    └─Sequential: 3-9              [2, 256, 8, 8]            886,272\n",
      "│    │    └─Sequential: 3-10             [2, 256, 8, 8]            33,280\n",
      "│    └─Residual_Block: 2-9               [2, 256, 8, 8]            --\n",
      "│    │    └─Sequential: 3-11             [2, 256, 8, 8]            1,181,184\n",
      "│    │    └─Sequential: 3-12             [2, 256, 8, 8]            --\n",
      "├─Sequential: 1-5                        [2, 512, 4, 4]            --\n",
      "│    └─Residual_Block: 2-10              [2, 512, 4, 4]            --\n",
      "│    │    └─Sequential: 3-13             [2, 512, 4, 4]            3,542,016\n",
      "│    │    └─Sequential: 3-14             [2, 512, 4, 4]            132,096\n",
      "│    └─Residual_Block: 2-11              [2, 512, 4, 4]            --\n",
      "│    │    └─Sequential: 3-15             [2, 512, 4, 4]            4,721,664\n",
      "│    │    └─Sequential: 3-16             [2, 512, 4, 4]            --\n",
      "├─Sequential: 1-6                        [2, 512]                  --\n",
      "│    └─AvgPool2d: 2-12                   [2, 512, 1, 1]            --\n",
      "│    └─Flatten: 2-13                     [2, 512]                  --\n",
      "├─Linear: 1-7                            [2, 2]                    1,026\n",
      "==========================================================================================\n",
      "Total params: 11,173,698\n",
      "Trainable params: 11,173,698\n",
      "Non-trainable params: 0\n",
      "Total mult-adds (G): 1.11\n",
      "==========================================================================================\n",
      "Input size (MB): 0.02\n",
      "Forward/backward pass size (MB): 19.66\n",
      "Params size (MB): 44.69\n",
      "Estimated Total Size (MB): 64.38\n",
      "==========================================================================================\n"
     ]
    }
   ],
   "source": [
    "#Instantiating the model:\n",
    "quantum_transfer_model = ResNet(Res_Block=Residual_Block).to(device)\n",
    "print(summary(quantum_transfer_model, [2,3,32,32]))\n",
    "# a=torch.rand(1,3,32,32)\n",
    "# print(quantum_transfer_model(a))\n",
    "# quantum_transfer_model.quantum = Quantum_block()\n",
    "# quantum_transfer_model(a)"
   ]
  },
  {
   "cell_type": "code",
   "execution_count": 11,
   "id": "7bdb3454-b879-4661-b151-23c85bb76d43",
   "metadata": {},
   "outputs": [],
   "source": [
    "#Creating the data transforms:\n",
    "\n",
    "train_transform = transforms.Compose([\n",
    "    transforms.ToTensor(),\n",
    "    transforms.Normalize([0.485, 0.456, 0.406], [0.229, 0.224, 0.225])\n",
    "])\n",
    "\n",
    "test_transform = transforms.Compose([\n",
    "    transforms.ToTensor(),\n",
    "    transforms.Normalize([0.485, 0.456, 0.406], [0.229, 0.224, 0.225])\n",
    "])\n"
   ]
  },
  {
   "cell_type": "code",
   "execution_count": 12,
   "id": "855dbb72-51c5-4565-8b20-a85b94e338f5",
   "metadata": {},
   "outputs": [
    {
     "name": "stdout",
     "output_type": "stream",
     "text": [
      "Files already downloaded and verified\n",
      "Files already downloaded and verified\n"
     ]
    },
    {
     "data": {
      "text/plain": [
       "(Dataset CIFAR10\n",
       "     Number of datapoints: 50000\n",
       "     Root location: CIFAR-10 DATA\n",
       "     Split: Train\n",
       "     StandardTransform\n",
       " Transform: Compose(\n",
       "                ToTensor()\n",
       "                Normalize(mean=[0.485, 0.456, 0.406], std=[0.229, 0.224, 0.225])\n",
       "            ),\n",
       " Dataset CIFAR10\n",
       "     Number of datapoints: 10000\n",
       "     Root location: CIFAR-10 DATA\n",
       "     Split: Test\n",
       "     StandardTransform\n",
       " Transform: Compose(\n",
       "                ToTensor()\n",
       "                Normalize(mean=[0.485, 0.456, 0.406], std=[0.229, 0.224, 0.225])\n",
       "            ))"
      ]
     },
     "execution_count": 12,
     "metadata": {},
     "output_type": "execute_result"
    }
   ],
   "source": [
    "train_data = datasets.CIFAR10(root = \"CIFAR-10 DATA\",\n",
    "                              train = True,\n",
    "                              transform=train_transform,\n",
    "                              download =  True)\n",
    "\n",
    "test_data = datasets.CIFAR10(root = \"CIFAR-10 DATA\",\n",
    "                             train = False,\n",
    "                             transform=test_transform,\n",
    "                             download =  True)\n",
    "\n",
    "train_data, test_data"
   ]
  },
  {
   "cell_type": "code",
   "execution_count": 13,
   "id": "b23454f3-18c0-4ca1-b294-c95280e937c1",
   "metadata": {},
   "outputs": [
    {
     "data": {
      "text/plain": [
       "(10000, 2000)"
      ]
     },
     "execution_count": 13,
     "metadata": {},
     "output_type": "execute_result"
    }
   ],
   "source": [
    "train_idx = np.where((np.array(train_data.targets) == 0) | (np.array(train_data.targets) == 1))[0]\n",
    "test_idx = np.where((np.array(test_data.targets) == 0) | (np.array(test_data.targets) == 1))[0]\n",
    "\n",
    "train_subset = torch.utils.data.Subset(train_data, train_idx)\n",
    "test_subset = torch.utils.data.Subset(test_data, test_idx)\n",
    "\n",
    "train_subset_loader = DataLoader(train_subset, batch_size = 64, shuffle = True, num_workers = 2)\n",
    "test_subset_loader = DataLoader(test_subset, batch_size = 64, shuffle = False, num_workers = 2)\n",
    "\n",
    "len(train_subset), len(test_subset)"
   ]
  },
  {
   "cell_type": "code",
   "execution_count": 14,
   "id": "721796a1-f3cb-4243-a4eb-97b5f11b72c6",
   "metadata": {},
   "outputs": [
    {
     "data": {
      "text/plain": [
       "['airplane',\n",
       " 'automobile',\n",
       " 'bird',\n",
       " 'cat',\n",
       " 'deer',\n",
       " 'dog',\n",
       " 'frog',\n",
       " 'horse',\n",
       " 'ship',\n",
       " 'truck']"
      ]
     },
     "execution_count": 14,
     "metadata": {},
     "output_type": "execute_result"
    }
   ],
   "source": [
    "class_names = train_data.classes\n",
    "class_names"
   ]
  },
  {
   "cell_type": "code",
   "execution_count": 15,
   "id": "87c32b35-7c5d-46ae-bff0-c267ad40c59f",
   "metadata": {},
   "outputs": [],
   "source": [
    "# Making a function to view the image:\n",
    "def view_image(datapoint):\n",
    "    img,label = datapoint\n",
    "    plt.figure(figsize = (10,7))\n",
    "    plt.axis(False)\n",
    "    plt.title(class_names[label])\n",
    "    plt.imshow(img.permute(1,2,0))"
   ]
  },
  {
   "cell_type": "code",
   "execution_count": 16,
   "id": "5b1b4bf9-12f2-46e5-b143-ac10ed494e9f",
   "metadata": {},
   "outputs": [],
   "source": [
    "#Setting up the loss function and optimizer and accuracy :\n",
    "from torchmetrics import Accuracy\n",
    "\n",
    "loss_fn = nn.CrossEntropyLoss()\n",
    "optimizer = torch.optim.Adam(params = quantum_transfer_model.parameters(), lr = lr_step)\n",
    "lr_scheduler = torch.optim.lr_scheduler.StepLR(optimizer = optimizer, step_size = 10, gamma = 0.1)\n",
    "accuracy_fn = Accuracy(task = \"binary\").to(device)"
   ]
  },
  {
   "cell_type": "code",
   "execution_count": 17,
   "id": "c122de24-55b6-4b4e-8238-b43ecc43e4e0",
   "metadata": {},
   "outputs": [],
   "source": [
    "#Setting up the epochs and timer and the progress bar\n",
    "def train_model(resnet_model: nn.Module,\n",
    "                loss_fn:nn.Module,\n",
    "                train_dataloader:torch.utils.data,\n",
    "                test_dataloader:torch.utils.data,\n",
    "                optimizer:torch.optim,\n",
    "                accuracy_fn = accuracy_fn):\n",
    "    \n",
    "    results = {\"train_loss\" : [],\n",
    "               \"train_acc\" : [],\n",
    "               \"test_loss\" : [],\n",
    "               \"test_acc\" : []}\n",
    "    from tqdm.auto import tqdm\n",
    "    from timeit import default_timer as timer\n",
    "    \n",
    "    start_timer = timer()\n",
    "    epochs = 3\n",
    "    pbar = tqdm(range(epochs), total = epochs)\n",
    "    for epoch in pbar:\n",
    "    \n",
    "        #the training:\n",
    "        resnet_model.train()\n",
    "        train_loss, train_acc = 0,0 \n",
    "        for batch, (X,y) in tqdm(enumerate(train_dataloader), total = len(train_dataloader), desc = \"Training\", leave=False):\n",
    "            X,y = X.to(device), y.to(device)\n",
    "            y_logits = resnet_model(X)\n",
    "            loss = loss_fn(y_logits, y)\n",
    "            train_acc += accuracy_fn(y,y_logits.argmax(dim=1))\n",
    "            train_loss += loss\n",
    "            optimizer.zero_grad()\n",
    "            loss.backward()\n",
    "            optimizer.step()\n",
    "            \n",
    "    \n",
    "        train_loss /= len(train_dataloader)\n",
    "        train_acc /= len(train_dataloader)\n",
    "        #Update the dictionary:\n",
    "        results[\"train_loss\"].append(train_loss)\n",
    "        results[\"train_acc\"].append(train_acc)\n",
    "        \n",
    "        \n",
    "        # print(f\"Epoch : {epoch+1}  |  Train Loss : {train_loss:.4f}  |  Train Accuracy : {train_acc*100:.4f}%\")\n",
    "    \n",
    "        #Testing:\n",
    "        resnet_model.eval()\n",
    "        test_loss, test_acc  = 0,0\n",
    "        with torch.inference_mode():\n",
    "            for X_test, y_test in tqdm(test_dataloader, total = len(test_dataloader), desc = \"Testing\", leave=False):\n",
    "                X_test,y_test = X_test.to(device), y_test.to(device)\n",
    "                y_test_logits = resnet_model(X_test)\n",
    "                test_loss += loss_fn(y_test_logits, y_test)\n",
    "                test_acc += accuracy_fn(y_test, y_test_logits.argmax(dim = 1))\n",
    "    \n",
    "            test_loss /= len(test_dataloader)\n",
    "            test_acc /= len(test_dataloader)\n",
    "            \n",
    "        results[\"test_loss\"].append(test_loss)\n",
    "        results[\"test_acc\"].append(test_acc)\n",
    "        # print(f\"Epoch : {epoch+1}  |  Test Loss : {test_loss:.4f}  |  Test Accuracy : {test_acc*100:.4f}%\\n\\n\")\n",
    "\n",
    "        pbar.set_description(f\"Epoch : {epoch+1} \")\n",
    "        pbar.set_postfix({\"Train Accuracy\" : f\"{train_acc.item()*100:.4f}%\" , \"Test Accuracy\" : f\"{test_acc.item()*100:.4f}%\"})\n",
    "    \n",
    "    end_timer = timer()\n",
    "    print(f\"Time taken for the model to train is: {end_timer - start_timer:.4f}\")\n",
    "    return results"
   ]
  },
  {
   "cell_type": "code",
   "execution_count": 18,
   "id": "56780565-9779-4094-be1b-006273cc1256",
   "metadata": {},
   "outputs": [
    {
     "data": {
      "application/vnd.jupyter.widget-view+json": {
       "model_id": "b5e31288cfcf4a8eb8d36c6f12e99b83",
       "version_major": 2,
       "version_minor": 0
      },
      "text/plain": [
       "  0%|          | 0/3 [00:00<?, ?it/s]"
      ]
     },
     "metadata": {},
     "output_type": "display_data"
    },
    {
     "data": {
      "application/vnd.jupyter.widget-view+json": {
       "model_id": "",
       "version_major": 2,
       "version_minor": 0
      },
      "text/plain": [
       "Training:   0%|          | 0/157 [00:00<?, ?it/s]"
      ]
     },
     "metadata": {},
     "output_type": "display_data"
    },
    {
     "data": {
      "application/vnd.jupyter.widget-view+json": {
       "model_id": "",
       "version_major": 2,
       "version_minor": 0
      },
      "text/plain": [
       "Testing:   0%|          | 0/32 [00:00<?, ?it/s]"
      ]
     },
     "metadata": {},
     "output_type": "display_data"
    },
    {
     "data": {
      "application/vnd.jupyter.widget-view+json": {
       "model_id": "",
       "version_major": 2,
       "version_minor": 0
      },
      "text/plain": [
       "Training:   0%|          | 0/157 [00:00<?, ?it/s]"
      ]
     },
     "metadata": {},
     "output_type": "display_data"
    },
    {
     "data": {
      "application/vnd.jupyter.widget-view+json": {
       "model_id": "",
       "version_major": 2,
       "version_minor": 0
      },
      "text/plain": [
       "Testing:   0%|          | 0/32 [00:00<?, ?it/s]"
      ]
     },
     "metadata": {},
     "output_type": "display_data"
    },
    {
     "data": {
      "application/vnd.jupyter.widget-view+json": {
       "model_id": "",
       "version_major": 2,
       "version_minor": 0
      },
      "text/plain": [
       "Training:   0%|          | 0/157 [00:00<?, ?it/s]"
      ]
     },
     "metadata": {},
     "output_type": "display_data"
    },
    {
     "name": "stderr",
     "output_type": "stream",
     "text": [
      "Exception ignored in: <function _MultiProcessingDataLoaderIter.__del__ at 0x7f822dda95a0>\n",
      "Traceback (most recent call last):\n",
      "  File \"/home/sid1729/.cache/pypoetry/virtualenvs/resnet18-c-7ElRw3-py3.10/lib/python3.10/site-packages/torch/utils/data/dataloader.py\", line 1479, in __del__\n",
      "    self._shutdown_workers()\n",
      "  File \"/home/sid1729/.cache/pypoetry/virtualenvs/resnet18-c-7ElRw3-py3.10/lib/python3.10/site-packages/torch/utils/data/dataloader.py\", line 1462, in _shutdown_workers\n",
      "    if w.is_alive():\n",
      "  File \"/usr/lib/python3.10/multiprocessing/process.py\", line 160, in is_alive\n",
      "    assert self._parent_pid == os.getpid(), 'can only test a child process'\n",
      "AssertionError: can only test a child process\n",
      "Exception ignored in: <function _MultiProcessingDataLoaderIter.__del__ at 0x7f822dda95a0>\n",
      "Traceback (most recent call last):\n",
      "  File \"/home/sid1729/.cache/pypoetry/virtualenvs/resnet18-c-7ElRw3-py3.10/lib/python3.10/site-packages/torch/utils/data/dataloader.py\", line 1479, in __del__\n",
      "    self._shutdown_workers()\n",
      "  File \"/home/sid1729/.cache/pypoetry/virtualenvs/resnet18-c-7ElRw3-py3.10/lib/python3.10/site-packages/torch/utils/data/dataloader.py\", line 1462, in _shutdown_workers\n",
      "    if w.is_alive():\n",
      "  File \"/usr/lib/python3.10/multiprocessing/process.py\", line 160, in is_alive\n",
      "    assert self._parent_pid == os.getpid(), 'can only test a child process'\n",
      "AssertionError: can only test a child process\n",
      "Exception ignored in: <function _MultiProcessingDataLoaderIter.__del__ at 0x7f822dda95a0>\n",
      "Traceback (most recent call last):\n",
      "  File \"/home/sid1729/.cache/pypoetry/virtualenvs/resnet18-c-7ElRw3-py3.10/lib/python3.10/site-packages/torch/utils/data/dataloader.py\", line 1479, in __del__\n",
      "    self._shutdown_workers()\n",
      "  File \"/home/sid1729/.cache/pypoetry/virtualenvs/resnet18-c-7ElRw3-py3.10/lib/python3.10/site-packages/torch/utils/data/dataloader.py\", line 1462, in _shutdown_workers\n",
      "    if w.is_alive():\n",
      "  File \"/usr/lib/python3.10/multiprocessing/process.py\", line 160, in is_alive\n",
      "    assert self._parent_pid == os.getpid(), 'can only test a child process'\n",
      "AssertionError: can only test a child process\n",
      "Exception ignored in: <function _MultiProcessingDataLoaderIter.__del__ at 0x7f822dda95a0>\n",
      "Traceback (most recent call last):\n",
      "  File \"/home/sid1729/.cache/pypoetry/virtualenvs/resnet18-c-7ElRw3-py3.10/lib/python3.10/site-packages/torch/utils/data/dataloader.py\", line 1479, in __del__\n",
      "    self._shutdown_workers()\n",
      "  File \"/home/sid1729/.cache/pypoetry/virtualenvs/resnet18-c-7ElRw3-py3.10/lib/python3.10/site-packages/torch/utils/data/dataloader.py\", line 1462, in _shutdown_workers\n",
      "    if w.is_alive():\n",
      "  File \"/usr/lib/python3.10/multiprocessing/process.py\", line 160, in is_alive\n",
      "    assert self._parent_pid == os.getpid(), 'can only test a child process'\n",
      "AssertionError: can only test a child process\n"
     ]
    },
    {
     "data": {
      "application/vnd.jupyter.widget-view+json": {
       "model_id": "",
       "version_major": 2,
       "version_minor": 0
      },
      "text/plain": [
       "Testing:   0%|          | 0/32 [00:00<?, ?it/s]"
      ]
     },
     "metadata": {},
     "output_type": "display_data"
    },
    {
     "name": "stdout",
     "output_type": "stream",
     "text": [
      "Time taken for the model to train is: 66.3040\n"
     ]
    }
   ],
   "source": [
    "model_results = train_model(resnet_model = quantum_transfer_model,\n",
    "                            train_dataloader = train_subset_loader,\n",
    "                            test_dataloader = test_subset_loader,\n",
    "                            loss_fn = loss_fn,\n",
    "                            optimizer = optimizer)\n",
    "                            "
   ]
  },
  {
   "cell_type": "code",
   "execution_count": 19,
   "id": "8c02ceeb-4109-4b40-bc61-7cfdf86af93a",
   "metadata": {},
   "outputs": [
    {
     "data": {
      "text/plain": [
       "==========================================================================================\n",
       "Layer (type:depth-idx)                   Output Shape              Param #\n",
       "==========================================================================================\n",
       "ResNet                                   [1, 2]                    --\n",
       "├─Sequential: 1-1                        [1, 64, 32, 32]           --\n",
       "│    └─Conv2d: 2-1                       [1, 64, 32, 32]           1,728\n",
       "│    └─BatchNorm2d: 2-2                  [1, 64, 32, 32]           128\n",
       "│    └─ReLU: 2-3                         [1, 64, 32, 32]           --\n",
       "├─Sequential: 1-2                        [1, 64, 32, 32]           --\n",
       "│    └─Residual_Block: 2-4               [1, 64, 32, 32]           --\n",
       "│    │    └─Sequential: 3-1              [1, 64, 32, 32]           74,112\n",
       "│    │    └─Sequential: 3-2              [1, 64, 32, 32]           --\n",
       "│    └─Residual_Block: 2-5               [1, 64, 32, 32]           --\n",
       "│    │    └─Sequential: 3-3              [1, 64, 32, 32]           74,112\n",
       "│    │    └─Sequential: 3-4              [1, 64, 32, 32]           --\n",
       "├─Sequential: 1-3                        [1, 128, 16, 16]          --\n",
       "│    └─Residual_Block: 2-6               [1, 128, 16, 16]          --\n",
       "│    │    └─Sequential: 3-5              [1, 128, 16, 16]          221,952\n",
       "│    │    └─Sequential: 3-6              [1, 128, 16, 16]          8,448\n",
       "│    └─Residual_Block: 2-7               [1, 128, 16, 16]          --\n",
       "│    │    └─Sequential: 3-7              [1, 128, 16, 16]          295,680\n",
       "│    │    └─Sequential: 3-8              [1, 128, 16, 16]          --\n",
       "├─Sequential: 1-4                        [1, 256, 8, 8]            --\n",
       "│    └─Residual_Block: 2-8               [1, 256, 8, 8]            --\n",
       "│    │    └─Sequential: 3-9              [1, 256, 8, 8]            886,272\n",
       "│    │    └─Sequential: 3-10             [1, 256, 8, 8]            33,280\n",
       "│    └─Residual_Block: 2-9               [1, 256, 8, 8]            --\n",
       "│    │    └─Sequential: 3-11             [1, 256, 8, 8]            1,181,184\n",
       "│    │    └─Sequential: 3-12             [1, 256, 8, 8]            --\n",
       "├─Sequential: 1-5                        [1, 512, 4, 4]            --\n",
       "│    └─Residual_Block: 2-10              [1, 512, 4, 4]            --\n",
       "│    │    └─Sequential: 3-13             [1, 512, 4, 4]            3,542,016\n",
       "│    │    └─Sequential: 3-14             [1, 512, 4, 4]            132,096\n",
       "│    └─Residual_Block: 2-11              [1, 512, 4, 4]            --\n",
       "│    │    └─Sequential: 3-15             [1, 512, 4, 4]            4,721,664\n",
       "│    │    └─Sequential: 3-16             [1, 512, 4, 4]            --\n",
       "├─Sequential: 1-6                        [1, 512]                  --\n",
       "│    └─AvgPool2d: 2-12                   [1, 512, 1, 1]            --\n",
       "│    └─Flatten: 2-13                     [1, 512]                  --\n",
       "├─Linear: 1-7                            [1, 2]                    1,026\n",
       "==========================================================================================\n",
       "Total params: 11,173,698\n",
       "Trainable params: 11,173,698\n",
       "Non-trainable params: 0\n",
       "Total mult-adds (M): 555.92\n",
       "==========================================================================================\n",
       "Input size (MB): 0.01\n",
       "Forward/backward pass size (MB): 9.83\n",
       "Params size (MB): 44.69\n",
       "Estimated Total Size (MB): 54.54\n",
       "=========================================================================================="
      ]
     },
     "execution_count": 19,
     "metadata": {},
     "output_type": "execute_result"
    }
   ],
   "source": [
    "summary(quantum_transfer_model, [1,3,32,32])"
   ]
  },
  {
   "cell_type": "code",
   "execution_count": 20,
   "id": "28c42560-7e43-43fc-ad73-58c1fc49eb61",
   "metadata": {},
   "outputs": [
    {
     "data": {
      "text/plain": [
       "tensor([[ 2.5601, -2.2408]], device='cuda:0', grad_fn=<AddmmBackward0>)"
      ]
     },
     "execution_count": 20,
     "metadata": {},
     "output_type": "execute_result"
    }
   ],
   "source": [
    "a=torch.rand(1,3,32,32).to(device)\n",
    "quantum_transfer_model(a)"
   ]
  },
  {
   "cell_type": "code",
   "execution_count": 21,
   "id": "bc030c91-39d0-4aae-9bc4-fbc01b31fe56",
   "metadata": {},
   "outputs": [
    {
     "data": {
      "text/plain": [
       "'Accuracy of the model is: 89.9414%'"
      ]
     },
     "execution_count": 21,
     "metadata": {},
     "output_type": "execute_result"
    }
   ],
   "source": [
    "torch.save(quantum_transfer_model.state_dict(), \"Models/resnet_model_binary.pth\")\n",
    "resnet_loaded=ResNet(Res_Block = Residual_Block)\n",
    "resnet_loaded.load_state_dict(torch.load(f = \"Models/resnet_model_binary.pth\"))\n",
    "resnet_loaded.to(device)\n",
    "def check_accuracy(model:nn.Module, device = device):\n",
    "    model.to(device)\n",
    "    model.eval()\n",
    "    with torch.inference_mode():\n",
    "        acc = 0\n",
    "        for x,y in test_subset_loader:\n",
    "            x,y = x.to(device), y.to(device)\n",
    "            y_preds = model(x)\n",
    "            acc += accuracy_fn(y, y_preds.argmax(dim=1))\n",
    "        acc /= len(test_subset_loader)\n",
    "    return f\"Accuracy of the model is: {acc*100:.4f}%\"\n",
    "\n",
    "check_accuracy(resnet_loaded)"
   ]
  },
  {
   "cell_type": "code",
   "execution_count": 23,
   "id": "67229119-5bb4-4170-940a-f490050c8e83",
   "metadata": {},
   "outputs": [],
   "source": [
    "for params in resnet_loaded.parameters():\n",
    "    params.requires_grad_(False)"
   ]
  },
  {
   "cell_type": "code",
   "execution_count": 24,
   "id": "54178321-50fd-4330-85f1-ce1ec011b465",
   "metadata": {},
   "outputs": [
    {
     "name": "stdout",
     "output_type": "stream",
     "text": [
      "cuda:0\n"
     ]
    }
   ],
   "source": [
    "ans = False\n",
    "for params in resnet_loaded.parameters():\n",
    "    if (str(params.device) != 'cuda:0'):\n",
    "        ans=False\n",
    "        break\n",
    "    else:\n",
    "        ans=True\n",
    "if ans:\n",
    "   print(\"cuda:0\")\n",
    "else:\n",
    "    print(\"Hell NAWWW\")"
   ]
  },
  {
   "cell_type": "code",
   "execution_count": 25,
   "id": "4de7dbcc-1c43-4d03-87df-cd1caed1eaa3",
   "metadata": {},
   "outputs": [
    {
     "data": {
      "text/plain": [
       "tensor([[ 0.0794, -0.0663],\n",
       "        [ 0.3521, -0.3493],\n",
       "        [ 0.2519, -0.2490],\n",
       "        [-0.1575,  0.1617]], device='cuda:0', grad_fn=<AddmmBackward0>)"
      ]
     },
     "execution_count": 25,
     "metadata": {},
     "output_type": "execute_result"
    }
   ],
   "source": [
    "resnet_loaded.final = Quantum_block()\n",
    "a=torch.randn(4,3,32,32).to(device)\n",
    "resnet_loaded = resnet_loaded.to(device)\n",
    "resnet_loaded(a)"
   ]
  },
  {
   "cell_type": "code",
   "execution_count": null,
   "id": "cbaaf9b7-1c90-44c1-961d-91dcdd436b47",
   "metadata": {},
   "outputs": [],
   "source": []
  },
  {
   "cell_type": "code",
   "execution_count": 26,
   "id": "61693e79-cc6e-4017-bfad-0dca656447af",
   "metadata": {},
   "outputs": [
    {
     "data": {
      "application/vnd.jupyter.widget-view+json": {
       "model_id": "3a6366454c724a81817624d66c059b6d",
       "version_major": 2,
       "version_minor": 0
      },
      "text/plain": [
       "  0%|          | 0/3 [00:00<?, ?it/s]"
      ]
     },
     "metadata": {},
     "output_type": "display_data"
    },
    {
     "data": {
      "application/vnd.jupyter.widget-view+json": {
       "model_id": "",
       "version_major": 2,
       "version_minor": 0
      },
      "text/plain": [
       "Training:   0%|          | 0/157 [00:00<?, ?it/s]"
      ]
     },
     "metadata": {},
     "output_type": "display_data"
    },
    {
     "data": {
      "application/vnd.jupyter.widget-view+json": {
       "model_id": "",
       "version_major": 2,
       "version_minor": 0
      },
      "text/plain": [
       "Testing:   0%|          | 0/32 [00:00<?, ?it/s]"
      ]
     },
     "metadata": {},
     "output_type": "display_data"
    },
    {
     "data": {
      "application/vnd.jupyter.widget-view+json": {
       "model_id": "",
       "version_major": 2,
       "version_minor": 0
      },
      "text/plain": [
       "Training:   0%|          | 0/157 [00:00<?, ?it/s]"
      ]
     },
     "metadata": {},
     "output_type": "display_data"
    },
    {
     "data": {
      "application/vnd.jupyter.widget-view+json": {
       "model_id": "",
       "version_major": 2,
       "version_minor": 0
      },
      "text/plain": [
       "Testing:   0%|          | 0/32 [00:00<?, ?it/s]"
      ]
     },
     "metadata": {},
     "output_type": "display_data"
    },
    {
     "data": {
      "application/vnd.jupyter.widget-view+json": {
       "model_id": "",
       "version_major": 2,
       "version_minor": 0
      },
      "text/plain": [
       "Training:   0%|          | 0/157 [00:00<?, ?it/s]"
      ]
     },
     "metadata": {},
     "output_type": "display_data"
    },
    {
     "data": {
      "application/vnd.jupyter.widget-view+json": {
       "model_id": "",
       "version_major": 2,
       "version_minor": 0
      },
      "text/plain": [
       "Testing:   0%|          | 0/32 [00:00<?, ?it/s]"
      ]
     },
     "metadata": {},
     "output_type": "display_data"
    },
    {
     "name": "stdout",
     "output_type": "stream",
     "text": [
      "Time taken for the model to train is: 455.6067\n"
     ]
    }
   ],
   "source": [
    "quantum_model_results = train_model(resnet_model= resnet_loaded,\n",
    "                                    loss_fn = loss_fn, \n",
    "                                    optimizer = optimizer, \n",
    "                                    train_dataloader = train_subset_loader,\n",
    "                                    test_dataloader = test_subset_loader)"
   ]
  },
  {
   "cell_type": "code",
   "execution_count": 27,
   "id": "9b493529-4d04-4f21-bc88-c05ccffccb3b",
   "metadata": {},
   "outputs": [
    {
     "data": {
      "text/plain": [
       "{'train_loss': [tensor(0.6571, device='cuda:0', grad_fn=<DivBackward0>),\n",
       "  tensor(0.6573, device='cuda:0', grad_fn=<DivBackward0>),\n",
       "  tensor(0.6572, device='cuda:0', grad_fn=<DivBackward0>)],\n",
       " 'train_acc': [tensor(0.5710, device='cuda:0'),\n",
       "  tensor(0.5729, device='cuda:0'),\n",
       "  tensor(0.5744, device='cuda:0')],\n",
       " 'test_loss': [tensor(0.6484, device='cuda:0'),\n",
       "  tensor(0.6410, device='cuda:0'),\n",
       "  tensor(0.6464, device='cuda:0')],\n",
       " 'test_acc': [tensor(0.5898, device='cuda:0'),\n",
       "  tensor(0.5933, device='cuda:0'),\n",
       "  tensor(0.5884, device='cuda:0')]}"
      ]
     },
     "execution_count": 27,
     "metadata": {},
     "output_type": "execute_result"
    }
   ],
   "source": [
    "quantum_model_results"
   ]
  },
  {
   "cell_type": "code",
   "execution_count": 32,
   "id": "160776d5-c1b0-4863-996f-226c7b8f6e28",
   "metadata": {},
   "outputs": [],
   "source": [
    "# Plotting the progress:\n",
    "from typing import Dict, List, Tuple\n",
    "def plot_model_progress(results: Dict[str, List]):\n",
    "    plt.figure(figsize = (20,20))\n",
    "    \n",
    "    plt.subplot(2,1,1)\n",
    "    plt.plot(range(1,4), torch.tensor(results[\"train_loss\"]), label = \"Train loss\")\n",
    "    plt.plot(range(1,4), torch.tensor(results[\"test_loss\"]), label = \"Test loss\")\n",
    "    plt.title(f\"Train and Test Loss\")\n",
    "    plt.xlabel(\"Epochs\")\n",
    "    plt.ylabel(\"Loss\")\n",
    "    plt.legend()\n",
    "    \n",
    "    plt.subplot(2,1,2)\n",
    "    plt.plot(range(1,4), torch.tensor(results[\"train_acc\"]), label = \"Train Accuracy\")\n",
    "    plt.plot(range(1,4), torch.tensor(results[\"test_acc\"]), label = \"Test Accuracy\")\n",
    "    plt.title(f\"Train and Test Accuracy\")\n",
    "    plt.xlabel(\"Epochs\")\n",
    "    plt.ylabel(\"Accuracy (in %)\")\n",
    "    plt.legend()"
   ]
  },
  {
   "cell_type": "code",
   "execution_count": 33,
   "id": "a5f6bd91-205c-44ad-b139-090d5e7c22b7",
   "metadata": {},
   "outputs": [
    {
     "data": {
      "image/png": "[encoded data removed]",
      "text/plain": [
       "<Figure size 2000x2000 with 2 Axes>"
      ]
     },
     "metadata": {},
     "output_type": "display_data"
    }
   ],
   "source": [
    "plot_model_progress(quantum_model_results)"
   ]
  },
  {
   "cell_type": "code",
   "execution_count": 30,
   "id": "cb751e65-e8ae-4046-9b6a-9cc79f766e54",
   "metadata": {},
   "outputs": [
    {
     "data": {
      "text/plain": [
       "(tensor([[1., 2., 3., 4.]]),\n",
       " tensor([[0.7547, 0.3943, 0.3858, 0.0361]]),\n",
       " tensor([[1.0000, 2.0000, 3.0000, 4.0000],\n",
       "         [0.7547, 0.3943, 0.3858, 0.0361]]))"
      ]
     },
     "execution_count": 30,
     "metadata": {},
     "output_type": "execute_result"
    }
   ],
   "source": [
    "t = (1,2,3,4)\n",
    "a=torch.tensor(t).float().unsqueeze(0)\n",
    "b=torch.rand(4).float().unsqueeze(0)\n",
    "c=torch.tensor([])\n",
    "c = torch.cat((c,a))\n",
    "c = torch.cat((c,b))\n",
    "a,b,c"
   ]
  },
  {
   "cell_type": "code",
   "execution_count": 31,
   "id": "d34abe2b-74f5-444a-85ba-f2038cbf4eac",
   "metadata": {},
   "outputs": [
    {
     "data": {
      "text/plain": [
       "'Accuracy of the model is: 58.8379%'"
      ]
     },
     "execution_count": 31,
     "metadata": {},
     "output_type": "execute_result"
    }
   ],
   "source": [
    "check_accuracy(model = resnet_loaded)"
   ]
  },
  {
   "cell_type": "code",
   "execution_count": null,
   "id": "ad09fdb7-5ae4-43e9-b135-c0bcf1fbbf58",
   "metadata": {},
   "outputs": [],
   "source": []
  }
 ],
 "metadata": {
  "kernelspec": {
   "display_name": "Python 3 (ipykernel)",
   "language": "python",
   "name": "python3"
  },
  "language_info": {
   "codemirror_mode": {
    "name": "ipython",
    "version": 3
   },
   "file_extension": ".py",
   "mimetype": "text/x-python",
   "name": "python",
   "nbconvert_exporter": "python",
   "pygments_lexer": "ipython3",
   "version": "3.10.12"
  }
 },
 "nbformat": 4,
 "nbformat_minor": 5
}
